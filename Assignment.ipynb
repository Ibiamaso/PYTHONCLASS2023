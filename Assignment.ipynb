{
 "cells": [
  {
   "cell_type": "code",
   "execution_count": 5,
   "id": "96d8acbd",
   "metadata": {},
   "outputs": [
    {
     "name": "stdout",
     "output_type": "stream",
     "text": [
      "Enter a word (or press Enter to stop): first\n",
      "Enter a word (or press Enter to stop): second\n",
      "Enter a word (or press Enter to stop): fourth \n",
      "Enter a word (or press Enter to stop): third\n",
      "Enter a word (or press Enter to stop): second\n",
      "Enter a word (or press Enter to stop): \n",
      "first\n",
      "second\n",
      "fourth \n",
      "third\n"
     ]
    }
   ],
   "source": [
    "def display_special_words():\n",
    "    words = []\n",
    "    while True:\n",
    "        word = input(\"Enter a word (or press Enter to stop): \")\n",
    "        if word == \"\":\n",
    "            break\n",
    "        words.append(word)\n",
    "\n",
    "    special_words = []\n",
    "    for word in words:\n",
    "        if word not in special_words:\n",
    "            special_words.append(word)\n",
    "\n",
    "    for word in special_words:\n",
    "        print(word)\n",
    "\n",
    "\n",
    "display_special_words()\n"
   ]
  },
  {
   "cell_type": "code",
   "execution_count": 8,
   "id": "8cd48255",
   "metadata": {},
   "outputs": [
    {
     "name": "stdout",
     "output_type": "stream",
     "text": [
      "Enter an integer (or press Enter to stop): 6\n",
      "Enter an integer (or press Enter to stop): 0\n",
      "Enter an integer (or press Enter to stop): 8\n",
      "Enter an integer (or press Enter to stop): -6\n",
      "Enter an integer (or press Enter to stop): 6\n",
      "Enter an integer (or press Enter to stop): \n",
      "-6, 0, 6, 8, 6, "
     ]
    }
   ],
   "source": [
    "def display_number_groups():\n",
    "    negatives = []\n",
    "    zeros = []\n",
    "    positives = []\n",
    "\n",
    "    while True:\n",
    "        number = input(\"Enter an integer (or press Enter to stop): \")\n",
    "        if number == \"\":\n",
    "            break\n",
    "        number = int(number)\n",
    "\n",
    "        if number < 0:\n",
    "            negatives.append(number)\n",
    "        elif number == 0:\n",
    "            zeros.append(number)\n",
    "        else:\n",
    "            positives.append(number)\n",
    "\n",
    "    for number in negatives:\n",
    "        print(number, end=\", \")\n",
    "\n",
    "    for number in zeros:\n",
    "        print(number, end=\", \")\n",
    "\n",
    "    for number in positives:\n",
    "        print(number, end=\", \")\n",
    "        print()\n",
    "\n",
    "\n",
    "display_number_groups()\n"
   ]
  },
  {
   "cell_type": "code",
   "execution_count": 1,
   "id": "32272163",
   "metadata": {},
   "outputs": [
    {
     "name": "stdout",
     "output_type": "stream",
     "text": [
      "1: first\n",
      "2: second\n",
      "3: third\n",
      "4: fourth\n",
      "5: fifth\n",
      "6: sixth\n",
      "7: seventh\n",
      "8: eighth\n",
      "9: ninth\n",
      "10: tenth\n",
      "11: eleventh\n",
      "12: twelfth\n"
     ]
    }
   ],
   "source": [
    "def get_ordinal_number(number):\n",
    "    if number < 1 or number > 12:\n",
    "        return \"\"\n",
    "\n",
    "    ordinals = [\"first\", \"second\", \"third\", \"fourth\", \"fifth\", \"sixth\", \"seventh\", \"eighth\", \"ninth\", \"tenth\", \"eleventh\", \"twelfth\"]\n",
    "    return ordinals[number - 1]\n",
    "\n",
    "\n",
    "def main():\n",
    "    for number in range(1, 13):\n",
    "        ordinal = get_ordinal_number(number)\n",
    "        print(f\"{number}: {ordinal}\")\n",
    "\n",
    "\n",
    "if __name__ == \"__main__\":\n",
    "    main()\n"
   ]
  },
  {
   "cell_type": "code",
   "execution_count": 2,
   "id": "40daed4a",
   "metadata": {},
   "outputs": [
    {
     "name": "stdout",
     "output_type": "stream",
     "text": [
      "Enter an integer (enter 0 to stop): 4\n",
      "Enter an integer (enter 0 to stop): 8\n",
      "Enter an integer (enter 0 to stop): 3\n",
      "Enter an integer (enter 0 to stop): 9\n",
      "Enter an integer (enter 0 to stop): 2\n",
      "Enter an integer (enter 0 to stop): 1\n",
      "Enter an integer (enter 0 to stop): 6\n",
      "Enter an integer (enter 0 to stop): 5\n",
      "Enter an integer (enter 0 to stop): 0\n",
      "Values in reverse order:\n",
      "5\n",
      "6\n",
      "1\n",
      "2\n",
      "9\n",
      "3\n",
      "8\n",
      "4\n"
     ]
    }
   ],
   "source": [
    "def read_integers():\n",
    "    integers = []\n",
    "    \n",
    "    while True:\n",
    "        num = int(input(\"Enter an integer (enter 0 to stop): \"))\n",
    "        \n",
    "        if num == 0:\n",
    "            break\n",
    "        \n",
    "        integers.append(num)\n",
    "    \n",
    "    return integers\n",
    "\n",
    "\n",
    "def display_reverse_order(integers):\n",
    "    reversed_values = reversed(integers)\n",
    "    \n",
    "    print(\"Values in reverse order:\")\n",
    "    for value in reversed_values:\n",
    "        print(value)\n",
    "\n",
    "\n",
    "# Main program\n",
    "numbers = read_integers()\n",
    "display_reverse_order(numbers)\n"
   ]
  },
  {
   "cell_type": "code",
   "execution_count": 3,
   "id": "e8cdc5d8",
   "metadata": {},
   "outputs": [
    {
     "name": "stdout",
     "output_type": "stream",
     "text": [
      "Enter an integer (enter 0 to stop): 6\n",
      "Enter an integer (enter 0 to stop): 5\n",
      "Enter an integer (enter 0 to stop): 2\n",
      "Enter an integer (enter 0 to stop): 1\n",
      "Enter an integer (enter 0 to stop): 8\n",
      "Enter an integer (enter 0 to stop): 9\n",
      "Enter an integer (enter 0 to stop): 4\n",
      "Enter an integer (enter 0 to stop): 0\n",
      "Sorted values:\n",
      "1\n",
      "2\n",
      "4\n",
      "5\n",
      "6\n",
      "8\n",
      "9\n"
     ]
    }
   ],
   "source": [
    "def read_integers():\n",
    "    integers = []\n",
    "    \n",
    "    while True:\n",
    "        num = int(input(\"Enter an integer (enter 0 to stop): \"))\n",
    "        \n",
    "        if num == 0:\n",
    "            break\n",
    "        \n",
    "        integers.append(num)\n",
    "    \n",
    "    return integers\n",
    "\n",
    "\n",
    "def display_sorted_values(integers):\n",
    "    sorted_values = sorted(integers)\n",
    "    \n",
    "    print(\"Sorted values:\")\n",
    "    for value in sorted_values:\n",
    "        print(value)\n",
    "\n",
    "\n",
    "# Main program\n",
    "numbers = read_integers()\n",
    "display_sorted_values(numbers)\n"
   ]
  },
  {
   "cell_type": "code",
   "execution_count": null,
   "id": "abf9a216",
   "metadata": {},
   "outputs": [],
   "source": []
  }
 ],
 "metadata": {
  "kernelspec": {
   "display_name": "Python 3 (ipykernel)",
   "language": "python",
   "name": "python3"
  },
  "language_info": {
   "codemirror_mode": {
    "name": "ipython",
    "version": 3
   },
   "file_extension": ".py",
   "mimetype": "text/x-python",
   "name": "python",
   "nbconvert_exporter": "python",
   "pygments_lexer": "ipython3",
   "version": "3.10.9"
  }
 },
 "nbformat": 4,
 "nbformat_minor": 5
}
