{
 "cells": [
  {
   "cell_type": "code",
   "execution_count": 2,
   "id": "78d1c4d0",
   "metadata": {},
   "outputs": [
    {
     "name": "stdout",
     "output_type": "stream",
     "text": [
      "Enter a positive number: -6\n",
      "Invalid input\n"
     ]
    }
   ],
   "source": [
    "def is_positive_number(num):\n",
    "    return num > 0\n",
    "\n",
    "value = int(input(\"Enter a positive number: \"))\n",
    "if is_positive_number(value):\n",
    "    print(\"Valid input\")\n",
    "else:\n",
    "    print(\"Invalid input\")\n"
   ]
  },
  {
   "cell_type": "code",
   "execution_count": 15,
   "id": "5ad1ba8a",
   "metadata": {},
   "outputs": [],
   "source": [
    "def read_integers():\n",
    "    integers=[]\n",
    "    while True:\n",
    "        num=int(input(\"Enter an Integer or (press 0 to exit): \" ))\n",
    "        if  num ==0:\n",
    "            break\n",
    "        integers.append(num)     \n",
    "    return integers\n",
    "def display_sorted_values(integers):\n",
    "    sorted_values = sorted(integers)\n",
    "    print(\"sorted values: \")            \n",
    "    for value in sorted_values:\n",
    "        print(value)"
   ]
  },
  {
   "cell_type": "code",
   "execution_count": 16,
   "id": "6bac71ee",
   "metadata": {},
   "outputs": [
    {
     "name": "stdout",
     "output_type": "stream",
     "text": [
      "Enter an Integer or (press 0 to exit): 5\n",
      "Enter an Integer or (press 0 to exit): 3\n",
      "Enter an Integer or (press 0 to exit): 7\n",
      "Enter an Integer or (press 0 to exit): 9\n",
      "Enter an Integer or (press 0 to exit): 2\n",
      "Enter an Integer or (press 0 to exit): 1\n",
      "Enter an Integer or (press 0 to exit): 7\n",
      "Enter an Integer or (press 0 to exit): 9\n",
      "Enter an Integer or (press 0 to exit): 4\n",
      "Enter an Integer or (press 0 to exit): 0\n",
      "sorted values: \n",
      "1\n",
      "2\n",
      "3\n",
      "4\n",
      "5\n",
      "7\n",
      "7\n",
      "9\n",
      "9\n"
     ]
    }
   ],
   "source": [
    "numbers= read_integers()\n",
    "display_sorted_values(numbers)\n"
   ]
  },
  {
   "cell_type": "code",
   "execution_count": 17,
   "id": "3be3f139",
   "metadata": {},
   "outputs": [],
   "source": [
    "def read_integers():\n",
    "    integers=[]\n",
    "    while True:\n",
    "        num=int(input(\"Enter an Integer or (press 0 to exit): \" ))\n",
    "        if  num ==0:\n",
    "            break\n",
    "        integers.append(num)     \n",
    "    return integers\n",
    "def display_reverse_order(integers):\n",
    "    reversed_values = reversed(integers)\n",
    "    print(\"reversed values: \")            \n",
    "    for value in reversed_values:\n",
    "        print(value)"
   ]
  },
  {
   "cell_type": "code",
   "execution_count": 21,
   "id": "b3f819ca",
   "metadata": {},
   "outputs": [
    {
     "name": "stdout",
     "output_type": "stream",
     "text": [
      "Enter an Integer or (press 0 to exit): 7\n",
      "Enter an Integer or (press 0 to exit): 5\n",
      "Enter an Integer or (press 0 to exit): 8\n",
      "Enter an Integer or (press 0 to exit): 3\n",
      "Enter an Integer or (press 0 to exit): 6\n",
      "Enter an Integer or (press 0 to exit): 2\n",
      "Enter an Integer or (press 0 to exit): 9\n",
      "Enter an Integer or (press 0 to exit): 2\n",
      "Enter an Integer or (press 0 to exit): 7\n",
      "Enter an Integer or (press 0 to exit): 1\n",
      "Enter an Integer or (press 0 to exit): 0\n",
      "reversed values: \n",
      "1\n",
      "7\n",
      "2\n",
      "9\n",
      "2\n",
      "6\n",
      "3\n",
      "8\n",
      "5\n",
      "7\n"
     ]
    }
   ],
   "source": [
    "numbers= read_integers()\n",
    "display_reverse_order(numbers)"
   ]
  },
  {
   "cell_type": "code",
   "execution_count": 22,
   "id": "7633e5e7",
   "metadata": {},
   "outputs": [
    {
     "name": "stdout",
     "output_type": "stream",
     "text": [
      "Enter a list of numbers, separated by spaces: 2 6 7 8 3 4 5 6 7 8 9 \n",
      "List with outliers removed: [4.0, 5.0, 6.0, 6.0, 7.0, 7.0, 8.0]\n",
      "Original list: [2.0, 6.0, 7.0, 8.0, 3.0, 4.0, 5.0, 6.0, 7.0, 8.0, 9.0]\n"
     ]
    }
   ],
   "source": [
    "def remove_outliers(values, n):\n",
    "    if len(values) < 4:\n",
    "        raise ValueError(\"At least 4 values are required.\")\n",
    "    \n",
    "    sorted_values = sorted(values)\n",
    "    trimmed_values = sorted_values[n:-n]\n",
    "    \n",
    "    return trimmed_values\n",
    "\n",
    "\n",
    "def main():\n",
    "    try:\n",
    "        # Read a list of numbers from the user\n",
    "        values = input(\"Enter a list of numbers, separated by spaces: \").split()\n",
    "        values = [float(num) for num in values]\n",
    "\n",
    "        # Remove 2 largest and 2 smallest values\n",
    "        trimmed_values = remove_outliers(values, 2)\n",
    "\n",
    "        # Display the list with outliers removed\n",
    "        print(\"List with outliers removed:\", trimmed_values)\n",
    "\n",
    "        # Display the original list\n",
    "        print(\"Original list:\", values)\n",
    "    except ValueError as e:\n",
    "        print(\"Error:\", str(e))\n",
    "\n",
    "\n",
    "# Run the main program\n",
    "main()\n"
   ]
  },
  {
   "cell_type": "code",
   "execution_count": 28,
   "id": "86369f91",
   "metadata": {},
   "outputs": [],
   "source": [
    "def remove_outliers(values, n):\n",
    "    if len(values) < 4:\n",
    "        raise ValueError(\"At least 4 values are required.\")\n",
    "    \n",
    "    sorted_values = sorted(values)\n",
    "    trimmed_values = sorted_values[n:-n]\n",
    "    \n",
    "    return trimmed_values\n",
    "\n",
    "\n",
    "def main():\n",
    "    try:\n",
    "        \n",
    "        values = input(\"Enter a list of numbers, separated by spaces: \").split()\n",
    "        values = [float(num) for num in values]\n",
    "\n",
    "        \n",
    "        trimmed_values = remove_outliers(values, 2)\n",
    "\n",
    "     \n",
    "        print(\"List with outliers removed:\", trimmed_values)\n",
    "\n",
    "       \n",
    "        print(\"Original list:\", values)\n",
    "    except ValueError as e:\n",
    "        print(\"Error:\", str(e))\n"
   ]
  },
  {
   "cell_type": "code",
   "execution_count": 32,
   "id": "fa9f7830",
   "metadata": {},
   "outputs": [
    {
     "name": "stdout",
     "output_type": "stream",
     "text": [
      "Enter a list of numbers, separated by spaces: 2 3 7 8 2 4 5 1 8 5 6 7 8 \n",
      "List with outliers removed: [2.0, 3.0, 4.0, 5.0, 5.0, 6.0, 7.0, 7.0, 8.0]\n",
      "Original list: [2.0, 3.0, 7.0, 8.0, 2.0, 4.0, 5.0, 1.0, 8.0, 5.0, 6.0, 7.0, 8.0]\n"
     ]
    }
   ],
   "source": [
    "main()"
   ]
  },
  {
   "cell_type": "markdown",
   "id": "ab348f4c",
   "metadata": {},
   "source": [
    "##### "
   ]
  },
  {
   "cell_type": "code",
   "execution_count": null,
   "id": "f9eec9e8",
   "metadata": {},
   "outputs": [],
   "source": []
  }
 ],
 "metadata": {
  "kernelspec": {
   "display_name": "Python 3 (ipykernel)",
   "language": "python",
   "name": "python3"
  },
  "language_info": {
   "codemirror_mode": {
    "name": "ipython",
    "version": 3
   },
   "file_extension": ".py",
   "mimetype": "text/x-python",
   "name": "python",
   "nbconvert_exporter": "python",
   "pygments_lexer": "ipython3",
   "version": "3.10.9"
  }
 },
 "nbformat": 4,
 "nbformat_minor": 5
}
